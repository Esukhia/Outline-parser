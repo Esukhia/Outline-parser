{
 "cells": [
  {
   "cell_type": "code",
   "execution_count": 1,
   "metadata": {},
   "outputs": [],
   "source": [
    "import re\n",
    "import yaml\n",
    "from pathlib import Path\n",
    "from strsimpy.cosine import Cosine"
   ]
  },
  {
   "cell_type": "code",
   "execution_count": 2,
   "metadata": {},
   "outputs": [],
   "source": [
    "def restructure_outline(text_durchen, ab_titles):\n",
    "    texts = []\n",
    "    prev_title = \"ཁྱད་པར་དུ་འཕགས་པའི་བསྟོད་པ།\" # tengyur pedurma\n",
    "    prev_vol = \"0\"\n",
    "    cur_text = []\n",
    "    for text_id, text in text_durchen.items():\n",
    "        if text['title'] == prev_title:\n",
    "            if text['title'] not in ab_titles:\n",
    "                cur_text.append(text)\n",
    "            else:\n",
    "                texts.append(cur_text)\n",
    "                cur_text = []\n",
    "                cur_text.append(text) \n",
    "        else:\n",
    "            texts.append(cur_text)\n",
    "            cur_text = []\n",
    "            cur_text.append(text)\n",
    "        prev_title = text[\"title\"]\n",
    "        prev_vol = text[\"vol\"]\n",
    "    if cur_text:\n",
    "        texts.append(cur_text)\n",
    "    return texts"
   ]
  },
  {
   "cell_type": "code",
   "execution_count": 3,
   "metadata": {},
   "outputs": [],
   "source": [
    "t2d = Path('./tengyur_t2d.yaml').read_text(encoding='utf-8')\n",
    "ab_title_yml = Path('./ab_titles.yml').read_text(encoding='utf-8')\n",
    "ab_title = list(yaml.safe_load(ab_title_yml))\n",
    "text_durchen = yaml.safe_load(t2d)"
   ]
  },
  {
   "cell_type": "code",
   "execution_count": 4,
   "metadata": {},
   "outputs": [],
   "source": [
    "outlines_texts = restructure_outline(text_durchen, ab_title)"
   ]
  },
  {
   "cell_type": "code",
   "execution_count": 5,
   "metadata": {},
   "outputs": [
    {
     "data": {
      "text/plain": [
       "3667"
      ]
     },
     "execution_count": 5,
     "metadata": {},
     "output_type": "execute_result"
    }
   ],
   "source": [
    "len(outlines_texts)"
   ]
  },
  {
   "cell_type": "code",
   "execution_count": null,
   "metadata": {},
   "outputs": [],
   "source": []
  }
 ],
 "metadata": {
  "kernelspec": {
   "display_name": "Python 3",
   "language": "python",
   "name": "python3"
  },
  "language_info": {
   "codemirror_mode": {
    "name": "ipython",
    "version": 3
   },
   "file_extension": ".py",
   "mimetype": "text/x-python",
   "name": "python",
   "nbconvert_exporter": "python",
   "pygments_lexer": "ipython3",
   "version": "3.6.9"
  }
 },
 "nbformat": 4,
 "nbformat_minor": 2
}
